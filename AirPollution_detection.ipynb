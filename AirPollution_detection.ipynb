{
  "nbformat": 4,
  "nbformat_minor": 0,
  "metadata": {
    "colab": {
      "provenance": [],
      "authorship_tag": "ABX9TyMt7eSB7B/K4OjnseTWLkgx",
      "include_colab_link": true
    },
    "kernelspec": {
      "name": "python3",
      "display_name": "Python 3"
    },
    "language_info": {
      "name": "python"
    }
  },
  "cells": [
    {
      "cell_type": "markdown",
      "metadata": {
        "id": "view-in-github",
        "colab_type": "text"
      },
      "source": [
        "<a href=\"https://colab.research.google.com/github/Ruthranayaki213/Airpollution_predection/blob/main/AirPollution_detection.ipynb\" target=\"_parent\"><img src=\"https://colab.research.google.com/assets/colab-badge.svg\" alt=\"Open In Colab\"/></a>"
      ]
    },
    {
      "cell_type": "code",
      "execution_count": 1,
      "metadata": {
        "id": "CGFqgyYWemfW"
      },
      "outputs": [],
      "source": [
        "import pandas as pd\n",
        "from sklearn.model_selection import train_test_split\n",
        "from sklearn.svm import SVC\n",
        "from sklearn.metrics import accuracy_score\n",
        "\n",
        "# Load dataset\n",
        "dataset = pd.read_csv('/content/station_day.csv')"
      ]
    },
    {
      "cell_type": "code",
      "source": [
        "import matplotlib\n",
        "import matplotlib .pyplot as plt\n",
        "import seaborn as sns\n",
        "import missingno as msno"
      ],
      "metadata": {
        "id": "ak85FYfafJPq"
      },
      "execution_count": 2,
      "outputs": []
    },
    {
      "cell_type": "code",
      "source": [
        "dataset.head()"
      ],
      "metadata": {
        "colab": {
          "base_uri": "https://localhost:8080/",
          "height": 313
        },
        "id": "QwfVEblWfLvA",
        "outputId": "902a72cf-3982-41e4-c443-4024afcbc9bc"
      },
      "execution_count": 3,
      "outputs": [
        {
          "output_type": "execute_result",
          "data": {
            "text/plain": [
              "  StationId        Date  PM2.5    PM10    NO    NO2    NOx    NH3    CO  \\\n",
              "0     AP001  2017-11-24  71.36  115.75  1.75  20.65  12.40  12.19  0.10   \n",
              "1     AP001  2017-11-25  81.40  124.50  1.44  20.50  12.08  10.72  0.12   \n",
              "2     AP001  2017-11-26  78.32  129.06  1.26  26.00  14.85  10.28  0.14   \n",
              "3     AP001  2017-11-27  88.76  135.32  6.60  30.85  21.77  12.91  0.11   \n",
              "4     AP001  2017-11-28  64.18  104.09  2.56  28.07  17.01  11.42  0.09   \n",
              "\n",
              "     SO2      O3  Benzene  Toluene  Xylene    AQI AQI_Bucket  \n",
              "0  10.76  109.26     0.17     5.92    0.10    NaN        NaN  \n",
              "1  15.24  127.09     0.20     6.50    0.06  184.0   Moderate  \n",
              "2  26.96  117.44     0.22     7.95    0.08  197.0   Moderate  \n",
              "3  33.59  111.81     0.29     7.63    0.12  198.0   Moderate  \n",
              "4  19.00  138.18     0.17     5.02    0.07  188.0   Moderate  "
            ],
            "text/html": [
              "\n",
              "  <div id=\"df-dbb61114-9205-4dcd-974b-79ec722cf932\" class=\"colab-df-container\">\n",
              "    <div>\n",
              "<style scoped>\n",
              "    .dataframe tbody tr th:only-of-type {\n",
              "        vertical-align: middle;\n",
              "    }\n",
              "\n",
              "    .dataframe tbody tr th {\n",
              "        vertical-align: top;\n",
              "    }\n",
              "\n",
              "    .dataframe thead th {\n",
              "        text-align: right;\n",
              "    }\n",
              "</style>\n",
              "<table border=\"1\" class=\"dataframe\">\n",
              "  <thead>\n",
              "    <tr style=\"text-align: right;\">\n",
              "      <th></th>\n",
              "      <th>StationId</th>\n",
              "      <th>Date</th>\n",
              "      <th>PM2.5</th>\n",
              "      <th>PM10</th>\n",
              "      <th>NO</th>\n",
              "      <th>NO2</th>\n",
              "      <th>NOx</th>\n",
              "      <th>NH3</th>\n",
              "      <th>CO</th>\n",
              "      <th>SO2</th>\n",
              "      <th>O3</th>\n",
              "      <th>Benzene</th>\n",
              "      <th>Toluene</th>\n",
              "      <th>Xylene</th>\n",
              "      <th>AQI</th>\n",
              "      <th>AQI_Bucket</th>\n",
              "    </tr>\n",
              "  </thead>\n",
              "  <tbody>\n",
              "    <tr>\n",
              "      <th>0</th>\n",
              "      <td>AP001</td>\n",
              "      <td>2017-11-24</td>\n",
              "      <td>71.36</td>\n",
              "      <td>115.75</td>\n",
              "      <td>1.75</td>\n",
              "      <td>20.65</td>\n",
              "      <td>12.40</td>\n",
              "      <td>12.19</td>\n",
              "      <td>0.10</td>\n",
              "      <td>10.76</td>\n",
              "      <td>109.26</td>\n",
              "      <td>0.17</td>\n",
              "      <td>5.92</td>\n",
              "      <td>0.10</td>\n",
              "      <td>NaN</td>\n",
              "      <td>NaN</td>\n",
              "    </tr>\n",
              "    <tr>\n",
              "      <th>1</th>\n",
              "      <td>AP001</td>\n",
              "      <td>2017-11-25</td>\n",
              "      <td>81.40</td>\n",
              "      <td>124.50</td>\n",
              "      <td>1.44</td>\n",
              "      <td>20.50</td>\n",
              "      <td>12.08</td>\n",
              "      <td>10.72</td>\n",
              "      <td>0.12</td>\n",
              "      <td>15.24</td>\n",
              "      <td>127.09</td>\n",
              "      <td>0.20</td>\n",
              "      <td>6.50</td>\n",
              "      <td>0.06</td>\n",
              "      <td>184.0</td>\n",
              "      <td>Moderate</td>\n",
              "    </tr>\n",
              "    <tr>\n",
              "      <th>2</th>\n",
              "      <td>AP001</td>\n",
              "      <td>2017-11-26</td>\n",
              "      <td>78.32</td>\n",
              "      <td>129.06</td>\n",
              "      <td>1.26</td>\n",
              "      <td>26.00</td>\n",
              "      <td>14.85</td>\n",
              "      <td>10.28</td>\n",
              "      <td>0.14</td>\n",
              "      <td>26.96</td>\n",
              "      <td>117.44</td>\n",
              "      <td>0.22</td>\n",
              "      <td>7.95</td>\n",
              "      <td>0.08</td>\n",
              "      <td>197.0</td>\n",
              "      <td>Moderate</td>\n",
              "    </tr>\n",
              "    <tr>\n",
              "      <th>3</th>\n",
              "      <td>AP001</td>\n",
              "      <td>2017-11-27</td>\n",
              "      <td>88.76</td>\n",
              "      <td>135.32</td>\n",
              "      <td>6.60</td>\n",
              "      <td>30.85</td>\n",
              "      <td>21.77</td>\n",
              "      <td>12.91</td>\n",
              "      <td>0.11</td>\n",
              "      <td>33.59</td>\n",
              "      <td>111.81</td>\n",
              "      <td>0.29</td>\n",
              "      <td>7.63</td>\n",
              "      <td>0.12</td>\n",
              "      <td>198.0</td>\n",
              "      <td>Moderate</td>\n",
              "    </tr>\n",
              "    <tr>\n",
              "      <th>4</th>\n",
              "      <td>AP001</td>\n",
              "      <td>2017-11-28</td>\n",
              "      <td>64.18</td>\n",
              "      <td>104.09</td>\n",
              "      <td>2.56</td>\n",
              "      <td>28.07</td>\n",
              "      <td>17.01</td>\n",
              "      <td>11.42</td>\n",
              "      <td>0.09</td>\n",
              "      <td>19.00</td>\n",
              "      <td>138.18</td>\n",
              "      <td>0.17</td>\n",
              "      <td>5.02</td>\n",
              "      <td>0.07</td>\n",
              "      <td>188.0</td>\n",
              "      <td>Moderate</td>\n",
              "    </tr>\n",
              "  </tbody>\n",
              "</table>\n",
              "</div>\n",
              "    <div class=\"colab-df-buttons\">\n",
              "\n",
              "  <div class=\"colab-df-container\">\n",
              "    <button class=\"colab-df-convert\" onclick=\"convertToInteractive('df-dbb61114-9205-4dcd-974b-79ec722cf932')\"\n",
              "            title=\"Convert this dataframe to an interactive table.\"\n",
              "            style=\"display:none;\">\n",
              "\n",
              "  <svg xmlns=\"http://www.w3.org/2000/svg\" height=\"24px\" viewBox=\"0 -960 960 960\">\n",
              "    <path d=\"M120-120v-720h720v720H120Zm60-500h600v-160H180v160Zm220 220h160v-160H400v160Zm0 220h160v-160H400v160ZM180-400h160v-160H180v160Zm440 0h160v-160H620v160ZM180-180h160v-160H180v160Zm440 0h160v-160H620v160Z\"/>\n",
              "  </svg>\n",
              "    </button>\n",
              "\n",
              "  <style>\n",
              "    .colab-df-container {\n",
              "      display:flex;\n",
              "      gap: 12px;\n",
              "    }\n",
              "\n",
              "    .colab-df-convert {\n",
              "      background-color: #E8F0FE;\n",
              "      border: none;\n",
              "      border-radius: 50%;\n",
              "      cursor: pointer;\n",
              "      display: none;\n",
              "      fill: #1967D2;\n",
              "      height: 32px;\n",
              "      padding: 0 0 0 0;\n",
              "      width: 32px;\n",
              "    }\n",
              "\n",
              "    .colab-df-convert:hover {\n",
              "      background-color: #E2EBFA;\n",
              "      box-shadow: 0px 1px 2px rgba(60, 64, 67, 0.3), 0px 1px 3px 1px rgba(60, 64, 67, 0.15);\n",
              "      fill: #174EA6;\n",
              "    }\n",
              "\n",
              "    .colab-df-buttons div {\n",
              "      margin-bottom: 4px;\n",
              "    }\n",
              "\n",
              "    [theme=dark] .colab-df-convert {\n",
              "      background-color: #3B4455;\n",
              "      fill: #D2E3FC;\n",
              "    }\n",
              "\n",
              "    [theme=dark] .colab-df-convert:hover {\n",
              "      background-color: #434B5C;\n",
              "      box-shadow: 0px 1px 3px 1px rgba(0, 0, 0, 0.15);\n",
              "      filter: drop-shadow(0px 1px 2px rgba(0, 0, 0, 0.3));\n",
              "      fill: #FFFFFF;\n",
              "    }\n",
              "  </style>\n",
              "\n",
              "    <script>\n",
              "      const buttonEl =\n",
              "        document.querySelector('#df-dbb61114-9205-4dcd-974b-79ec722cf932 button.colab-df-convert');\n",
              "      buttonEl.style.display =\n",
              "        google.colab.kernel.accessAllowed ? 'block' : 'none';\n",
              "\n",
              "      async function convertToInteractive(key) {\n",
              "        const element = document.querySelector('#df-dbb61114-9205-4dcd-974b-79ec722cf932');\n",
              "        const dataTable =\n",
              "          await google.colab.kernel.invokeFunction('convertToInteractive',\n",
              "                                                    [key], {});\n",
              "        if (!dataTable) return;\n",
              "\n",
              "        const docLinkHtml = 'Like what you see? Visit the ' +\n",
              "          '<a target=\"_blank\" href=https://colab.research.google.com/notebooks/data_table.ipynb>data table notebook</a>'\n",
              "          + ' to learn more about interactive tables.';\n",
              "        element.innerHTML = '';\n",
              "        dataTable['output_type'] = 'display_data';\n",
              "        await google.colab.output.renderOutput(dataTable, element);\n",
              "        const docLink = document.createElement('div');\n",
              "        docLink.innerHTML = docLinkHtml;\n",
              "        element.appendChild(docLink);\n",
              "      }\n",
              "    </script>\n",
              "  </div>\n",
              "\n",
              "\n",
              "<div id=\"df-9d5227d2-091a-4dea-891b-40c6a0b347b8\">\n",
              "  <button class=\"colab-df-quickchart\" onclick=\"quickchart('df-9d5227d2-091a-4dea-891b-40c6a0b347b8')\"\n",
              "            title=\"Suggest charts.\"\n",
              "            style=\"display:none;\">\n",
              "\n",
              "<svg xmlns=\"http://www.w3.org/2000/svg\" height=\"24px\"viewBox=\"0 0 24 24\"\n",
              "     width=\"24px\">\n",
              "    <g>\n",
              "        <path d=\"M19 3H5c-1.1 0-2 .9-2 2v14c0 1.1.9 2 2 2h14c1.1 0 2-.9 2-2V5c0-1.1-.9-2-2-2zM9 17H7v-7h2v7zm4 0h-2V7h2v10zm4 0h-2v-4h2v4z\"/>\n",
              "    </g>\n",
              "</svg>\n",
              "  </button>\n",
              "\n",
              "<style>\n",
              "  .colab-df-quickchart {\n",
              "    background-color: #E8F0FE;\n",
              "    border: none;\n",
              "    border-radius: 50%;\n",
              "    cursor: pointer;\n",
              "    display: none;\n",
              "    fill: #1967D2;\n",
              "    height: 32px;\n",
              "    padding: 0 0 0 0;\n",
              "    width: 32px;\n",
              "  }\n",
              "\n",
              "  .colab-df-quickchart:hover {\n",
              "    background-color: #E2EBFA;\n",
              "    box-shadow: 0px 1px 2px rgba(60, 64, 67, 0.3), 0px 1px 3px 1px rgba(60, 64, 67, 0.15);\n",
              "    fill: #174EA6;\n",
              "  }\n",
              "\n",
              "  [theme=dark] .colab-df-quickchart {\n",
              "    background-color: #3B4455;\n",
              "    fill: #D2E3FC;\n",
              "  }\n",
              "\n",
              "  [theme=dark] .colab-df-quickchart:hover {\n",
              "    background-color: #434B5C;\n",
              "    box-shadow: 0px 1px 3px 1px rgba(0, 0, 0, 0.15);\n",
              "    filter: drop-shadow(0px 1px 2px rgba(0, 0, 0, 0.3));\n",
              "    fill: #FFFFFF;\n",
              "  }\n",
              "</style>\n",
              "\n",
              "  <script>\n",
              "    async function quickchart(key) {\n",
              "      const charts = await google.colab.kernel.invokeFunction(\n",
              "          'suggestCharts', [key], {});\n",
              "    }\n",
              "    (() => {\n",
              "      let quickchartButtonEl =\n",
              "        document.querySelector('#df-9d5227d2-091a-4dea-891b-40c6a0b347b8 button');\n",
              "      quickchartButtonEl.style.display =\n",
              "        google.colab.kernel.accessAllowed ? 'block' : 'none';\n",
              "    })();\n",
              "  </script>\n",
              "</div>\n",
              "    </div>\n",
              "  </div>\n"
            ]
          },
          "metadata": {},
          "execution_count": 3
        }
      ]
    },
    {
      "cell_type": "code",
      "source": [
        "msno.bar(dataset)"
      ],
      "metadata": {
        "colab": {
          "base_uri": "https://localhost:8080/",
          "height": 493
        },
        "id": "Wa0S0Dp7fNX0",
        "outputId": "8400f0cc-a03a-40ba-cdba-834d10257d31"
      },
      "execution_count": 4,
      "outputs": [
        {
          "output_type": "execute_result",
          "data": {
            "text/plain": [
              "<Axes: >"
            ]
          },
          "metadata": {},
          "execution_count": 4
        },
        {
          "output_type": "display_data",
          "data": {
            "text/plain": [
              "<Figure size 2500x1000 with 3 Axes>"
            ],
            "image/png": "[encoded data removed]"
          },
          "metadata": {}
        }
      ]
    },
    {
      "cell_type": "code",
      "source": [
        "sns.catplot(x = \"AQI_Bucket\", kind= \"count\", palette = \"ch: 2.87\", height=5, aspect=1.1, data = dataset)"
      ],
      "metadata": {
        "colab": {
          "base_uri": "https://localhost:8080/",
          "height": 524
        },
        "id": "7_8KEIVyfPBl",
        "outputId": "df7dc2f7-9d5c-4852-eb85-c5a1e39a3623"
      },
      "execution_count": 5,
      "outputs": [
        {
          "output_type": "execute_result",
          "data": {
            "text/plain": [
              "<seaborn.axisgrid.FacetGrid at 0x7c10dcdbeec0>"
            ]
          },
          "metadata": {},
          "execution_count": 5
        },
        {
          "output_type": "display_data",
          "data": {
            "text/plain": [
              "<Figure size 550x500 with 1 Axes>"
            ],
            "image/png": "[encoded data removed]"
          },
          "metadata": {}
        }
      ]
    },
    {
      "cell_type": "code",
      "source": [
        "dataset = dataset.dropna(subset=[\"PM2.5\",\"PM10\",\"NO\",\"NO2\",\"NOx\",\"NH3\",\"CO\",\"SO2\",\"O3\",\"Benzene\",\"Toluene\",\"Xylene\",\"AQI\",\"AQI_Bucket\"])"
      ],
      "metadata": {
        "id": "31IcwX3dfRQg"
      },
      "execution_count": 6,
      "outputs": []
    },
    {
      "cell_type": "code",
      "source": [
        "X = dataset.drop(['AQI_Bucket','StationId','Date'], axis=1)\n"
      ],
      "metadata": {
        "id": "qyFeTG2kfTqd"
      },
      "execution_count": 7,
      "outputs": []
    },
    {
      "cell_type": "code",
      "source": [
        "dataset.AQI_Bucket"
      ],
      "metadata": {
        "colab": {
          "base_uri": "https://localhost:8080/"
        },
        "id": "V5G5fzNTfViI",
        "outputId": "0a9f42fb-79aa-4f35-f646-549cf20ec8ab"
      },
      "execution_count": 8,
      "outputs": [
        {
          "output_type": "execute_result",
          "data": {
            "text/plain": [
              "1             Moderate\n",
              "2             Moderate\n",
              "3             Moderate\n",
              "4             Moderate\n",
              "5             Moderate\n",
              "              ...     \n",
              "105365        Moderate\n",
              "105366        Moderate\n",
              "105367    Satisfactory\n",
              "105368        Moderate\n",
              "105369        Moderate\n",
              "Name: AQI_Bucket, Length: 9679, dtype: object"
            ]
          },
          "metadata": {},
          "execution_count": 8
        }
      ]
    },
    {
      "cell_type": "code",
      "source": [
        "dataset['AQI_Bucket'].value_counts()"
      ],
      "metadata": {
        "colab": {
          "base_uri": "https://localhost:8080/"
        },
        "id": "JvEc2ECVfXS0",
        "outputId": "138e1e14-623e-4ca9-8fff-ce01aacbded2"
      },
      "execution_count": 9,
      "outputs": [
        {
          "output_type": "execute_result",
          "data": {
            "text/plain": [
              "Moderate        4234\n",
              "Satisfactory    3533\n",
              "Good             931\n",
              "Poor             518\n",
              "Very Poor        363\n",
              "Severe           100\n",
              "Name: AQI_Bucket, dtype: int64"
            ]
          },
          "metadata": {},
          "execution_count": 9
        }
      ]
    },
    {
      "cell_type": "code",
      "source": [
        "from sklearn.preprocessing import LabelEncoder\n",
        "class_labels = dataset.AQI_Bucket\n",
        "label_encoder = LabelEncoder()\n",
        "label_encoder.fit(class_labels)\n",
        "continuous_labels = label_encoder.transform(class_labels)\n",
        "print(class_labels.unique())\n",
        "print(continuous_labels)"
      ],
      "metadata": {
        "colab": {
          "base_uri": "https://localhost:8080/"
        },
        "id": "sIh1sslufaX5",
        "outputId": "59f1d6b8-a71f-44bd-c009-b928715f37a6"
      },
      "execution_count": 10,
      "outputs": [
        {
          "output_type": "stream",
          "name": "stdout",
          "text": [
            "['Moderate' 'Poor' 'Very Poor' 'Satisfactory' 'Good' 'Severe']\n",
            "[1 1 1 ... 3 1 1]\n"
          ]
        }
      ]
    },
    {
      "cell_type": "code",
      "source": [
        "\n",
        "y = continuous_labels"
      ],
      "metadata": {
        "id": "A9xIhj4EfcHQ"
      },
      "execution_count": 11,
      "outputs": []
    },
    {
      "cell_type": "code",
      "source": [
        "print(X)"
      ],
      "metadata": {
        "colab": {
          "base_uri": "https://localhost:8080/"
        },
        "id": "yxvGy7qQfeAT",
        "outputId": "9bc4aed6-9398-478c-e3fe-e7eb46be9886"
      },
      "execution_count": 12,
      "outputs": [
        {
          "output_type": "stream",
          "name": "stdout",
          "text": [
            "        PM2.5    PM10     NO    NO2    NOx    NH3    CO    SO2      O3  \\\n",
            "1       81.40  124.50   1.44  20.50  12.08  10.72  0.12  15.24  127.09   \n",
            "2       78.32  129.06   1.26  26.00  14.85  10.28  0.14  26.96  117.44   \n",
            "3       88.76  135.32   6.60  30.85  21.77  12.91  0.11  33.59  111.81   \n",
            "4       64.18  104.09   2.56  28.07  17.01  11.42  0.09  19.00  138.18   \n",
            "5       72.47  114.84   5.23  23.20  16.59  12.25  0.16  10.55  109.74   \n",
            "...       ...     ...    ...    ...    ...    ...   ...    ...     ...   \n",
            "105365  68.66  105.31   9.60  37.17  46.79  33.74  0.74  15.32   24.70   \n",
            "105366  33.83   69.32   9.17  29.77  38.95  45.52  0.51  16.97   24.54   \n",
            "105367  39.14   65.84   9.57  28.82  38.39  42.57  0.62  12.57   34.38   \n",
            "105368  52.69   90.26   9.31  27.90  37.22  32.07  0.60  13.75   62.38   \n",
            "105369  47.68   98.97  10.21  32.85  43.09  32.00  0.60  12.45   65.52   \n",
            "\n",
            "        Benzene  Toluene  Xylene    AQI  \n",
            "1          0.20     6.50    0.06  184.0  \n",
            "2          0.22     7.95    0.08  197.0  \n",
            "3          0.29     7.63    0.12  198.0  \n",
            "4          0.17     5.02    0.07  188.0  \n",
            "5          0.21     4.71    0.08  173.0  \n",
            "...         ...      ...     ...    ...  \n",
            "105365    11.01    29.66    1.77  198.0  \n",
            "105366     9.42    41.53    1.45  103.0  \n",
            "105367     6.68    28.38    2.12   96.0  \n",
            "105368     6.78    34.91    1.47  116.0  \n",
            "105369     6.76    36.77    1.83  135.0  \n",
            "\n",
            "[9679 rows x 13 columns]\n"
          ]
        }
      ]
    },
    {
      "cell_type": "code",
      "source": [
        "print(y)"
      ],
      "metadata": {
        "colab": {
          "base_uri": "https://localhost:8080/"
        },
        "id": "bRbCuVd-fg59",
        "outputId": "30c35e7b-4114-4f17-a150-b3522c9912ca"
      },
      "execution_count": 13,
      "outputs": [
        {
          "output_type": "stream",
          "name": "stdout",
          "text": [
            "[1 1 1 ... 3 1 1]\n"
          ]
        }
      ]
    },
    {
      "cell_type": "code",
      "source": [
        "X_train, X_test, y_train, y_test = train_test_split(X, y, test_size=0.3, random_state=30)"
      ],
      "metadata": {
        "id": "dEs6mExhfj8t"
      },
      "execution_count": 14,
      "outputs": []
    },
    {
      "cell_type": "code",
      "source": [
        "from sklearn.preprocessing import StandardScaler\n",
        "xt = StandardScaler().fit_transform(X)"
      ],
      "metadata": {
        "id": "hgQKMEkVfml_"
      },
      "execution_count": 15,
      "outputs": []
    },
    {
      "cell_type": "markdown",
      "source": [
        "SVM\n"
      ],
      "metadata": {
        "id": "QhkcbXTsf08p"
      }
    },
    {
      "cell_type": "code",
      "source": [
        "\n",
        "clf = SVC(kernel='linear')\n",
        "clf.kernel"
      ],
      "metadata": {
        "colab": {
          "base_uri": "https://localhost:8080/",
          "height": 35
        },
        "id": "9jvXafaBf2gE",
        "outputId": "254a3238-12ad-49b3-c8ca-12fcbc57d3a7"
      },
      "execution_count": 16,
      "outputs": [
        {
          "output_type": "execute_result",
          "data": {
            "text/plain": [
              "'linear'"
            ],
            "application/vnd.google.colaboratory.intrinsic+json": {
              "type": "string"
            }
          },
          "metadata": {},
          "execution_count": 16
        }
      ]
    },
    {
      "cell_type": "code",
      "source": [
        "\n",
        "clf.fit(X_train, y_train)\n",
        "y_pred = clf.predict(X_test)"
      ],
      "metadata": {
        "id": "ypWkGVasf5qi"
      },
      "execution_count": 17,
      "outputs": []
    },
    {
      "cell_type": "code",
      "source": [
        "\n",
        "accuracy = accuracy_score(y_test, y_pred)\n",
        "\n",
        "print('Accuracy:',accuracy)"
      ],
      "metadata": {
        "colab": {
          "base_uri": "https://localhost:8080/"
        },
        "id": "njOVT3mqf7Vn",
        "outputId": "c32c93e3-30aa-4092-a5ae-1c9af1501a3e"
      },
      "execution_count": 18,
      "outputs": [
        {
          "output_type": "stream",
          "name": "stdout",
          "text": [
            "Accuracy: 0.9972451790633609\n"
          ]
        }
      ]
    },
    {
      "cell_type": "code",
      "source": [
        "from sklearn.metrics import mean_squared_error\n",
        "mse = mean_squared_error(y_test, y_pred)\n",
        "print(\"MEAN SQUARED ERROR =\",mse)\n",
        "\n",
        "from sklearn.metrics import mean_absolute_error\n",
        "mae = mean_absolute_error(y_test, y_pred)\n",
        "print(\"MEAN ABSOLUTE ERROR =\",mae)\n",
        "\n",
        "from sklearn.metrics import precision_score\n",
        "precision = precision_score(y_test, y_pred, average='weighted')\n",
        "print(\"PRECISION =\",precision)\n",
        "\n",
        "from sklearn.metrics import recall_score\n",
        "recall = recall_score(y_test, y_pred,average='weighted')\n",
        "print(\"RECALL VALUE = \",recall)\n",
        "\n",
        "from sklearn.metrics import f1_score\n",
        "f1 = f1_score(y_test, y_pred,average='weighted')\n",
        "print(\"F1 SCORE =\",f1)\n",
        "\n"
      ],
      "metadata": {
        "colab": {
          "base_uri": "https://localhost:8080/"
        },
        "id": "Q0BGtSWVf9CP",
        "outputId": "45485c24-6e50-4bd3-9b29-379877fb3e42"
      },
      "execution_count": 19,
      "outputs": [
        {
          "output_type": "stream",
          "name": "stdout",
          "text": [
            "MEAN SQUARED ERROR = 0.0027548209366391185\n",
            "MEAN ABSOLUTE ERROR = 0.0027548209366391185\n",
            "PRECISION = 0.9973409327965538\n",
            "RECALL VALUE =  0.9972451790633609\n",
            "F1 SCORE = 0.9972631468024366\n"
          ]
        }
      ]
    },
    {
      "cell_type": "code",
      "source": [
        "from sklearn.metrics import confusion_matrix\n",
        "confusion_matrix = confusion_matrix(y_test, y_pred)\n",
        "print(confusion_matrix)"
      ],
      "metadata": {
        "colab": {
          "base_uri": "https://localhost:8080/"
        },
        "id": "89lLEl_Mf_fj",
        "outputId": "1fd5d427-bc32-4a09-f0bf-5b921cc037c4"
      },
      "execution_count": 20,
      "outputs": [
        {
          "output_type": "stream",
          "name": "stdout",
          "text": [
            "[[ 282    0    0    0    0    0]\n",
            " [   0 1277    7    0    0    0]\n",
            " [   0    0  176    0    0    0]\n",
            " [   0    0    0 1038    0    0]\n",
            " [   0    0    0    0   27    1]\n",
            " [   0    0    0    0    0   96]]\n"
          ]
        }
      ]
    },
    {
      "cell_type": "markdown",
      "source": [
        "DECISION TREE"
      ],
      "metadata": {
        "id": "3OEIMKt4gDif"
      }
    },
    {
      "cell_type": "code",
      "source": [
        "from sklearn.tree import DecisionTreeClassifier"
      ],
      "metadata": {
        "id": "pfMDxPPygGNe"
      },
      "execution_count": 21,
      "outputs": []
    },
    {
      "cell_type": "code",
      "source": [
        "X_train, X_test, y_train, y_test = train_test_split(X, y, test_size=0.4, random_state=48)"
      ],
      "metadata": {
        "id": "e1foTwLFgIKP"
      },
      "execution_count": 22,
      "outputs": []
    },
    {
      "cell_type": "code",
      "source": [
        "clf = DecisionTreeClassifier(max_depth=1)\n",
        "clf.fit(X_train, y_train)\n",
        "y_pred = clf.predict(X_test)\n",
        "\n",
        "accuracy = accuracy_score(y_test, y_pred)\n",
        "acc = clf.score(X_test,y_test)\n",
        "print('Accuracy:',accuracy)\n",
        "print(acc)\n"
      ],
      "metadata": {
        "colab": {
          "base_uri": "https://localhost:8080/"
        },
        "id": "L1HRvnkTgJ8Q",
        "outputId": "e7c452ca-060d-49c3-d2cc-50e498fa0271"
      },
      "execution_count": 23,
      "outputs": [
        {
          "output_type": "stream",
          "name": "stdout",
          "text": [
            "Accuracy: 0.8003615702479339\n",
            "0.8003615702479339\n"
          ]
        }
      ]
    },
    {
      "cell_type": "code",
      "source": [
        "from sklearn.metrics import mean_squared_error\n",
        "mse = mean_squared_error(y_test, y_pred)\n",
        "print(\"MEAN SQUARED ERROR =\",mse)\n",
        "\n",
        "from sklearn.metrics import mean_absolute_error\n",
        "mae = mean_absolute_error(y_test, y_pred)\n",
        "print(\"MEAN ABSOLUTE ERROR =\",mae)\n",
        "\n",
        "from sklearn.metrics import precision_score\n",
        "precision = precision_score(y_test, y_pred, average='weighted')\n",
        "print(\"PRECISION =\",precision)\n",
        "\n",
        "from sklearn.metrics import recall_score\n",
        "recall = recall_score(y_test, y_pred,average='weighted')\n",
        "print(\"RECALL VALUE = \",recall)\n",
        "\n",
        "from sklearn.metrics import f1_score\n",
        "f1 = f1_score(y_test, y_pred,average='weighted')\n",
        "print(\"F1 SCORE =\",f1)"
      ],
      "metadata": {
        "colab": {
          "base_uri": "https://localhost:8080/"
        },
        "id": "_ZlNdsq7gLq3",
        "outputId": "91264ddb-957b-47fe-d297-13ce3a85042c"
      },
      "execution_count": 24,
      "outputs": [
        {
          "output_type": "stream",
          "name": "stdout",
          "text": [
            "MEAN SQUARED ERROR = 1.6306818181818181\n",
            "MEAN ABSOLUTE ERROR = 0.5289256198347108\n",
            "PRECISION = 0.640658442417693\n",
            "RECALL VALUE =  0.8003615702479339\n",
            "F1 SCORE = 0.7116384746712472\n"
          ]
        },
        {
          "output_type": "stream",
          "name": "stderr",
          "text": [
            "/usr/local/lib/python3.10/dist-packages/sklearn/metrics/_classification.py:1344: UndefinedMetricWarning: Precision is ill-defined and being set to 0.0 in labels with no predicted samples. Use `zero_division` parameter to control this behavior.\n",
            "  _warn_prf(average, modifier, msg_start, len(result))\n"
          ]
        }
      ]
    },
    {
      "cell_type": "code",
      "source": [
        "from sklearn.metrics import confusion_matrix\n",
        "confusion_matrix = confusion_matrix(y_test, y_pred)\n",
        "print(confusion_matrix)"
      ],
      "metadata": {
        "colab": {
          "base_uri": "https://localhost:8080/"
        },
        "id": "wAIvW1AmgOcC",
        "outputId": "fc06ad20-522a-466e-c4f8-28962843184c"
      },
      "execution_count": 25,
      "outputs": [
        {
          "output_type": "stream",
          "name": "stdout",
          "text": [
            "[[   0    0    0  376    0    0]\n",
            " [   0 1678    0    0    0    0]\n",
            " [   0  209    0    0    0    0]\n",
            " [   0    0    0 1421    0    0]\n",
            " [   0   41    0    0    0    0]\n",
            " [   0  147    0    0    0    0]]\n"
          ]
        }
      ]
    },
    {
      "cell_type": "markdown",
      "source": [
        "RANDOM FOREST"
      ],
      "metadata": {
        "id": "V2gxoFkzgSw3"
      }
    },
    {
      "cell_type": "code",
      "source": [
        "from sklearn.ensemble import RandomForestClassifier"
      ],
      "metadata": {
        "id": "15nkA4hfgVJR"
      },
      "execution_count": 26,
      "outputs": []
    },
    {
      "cell_type": "code",
      "source": [
        "clf = RandomForestClassifier(n_estimators=100)\n",
        "clf.fit(X_train, y_train)\n",
        "y_pred = clf.predict(X_test)\n",
        "accuracy = accuracy_score(y_test, y_pred)\n",
        "print('Accuracy:',accuracy)"
      ],
      "metadata": {
        "colab": {
          "base_uri": "https://localhost:8080/"
        },
        "id": "zlMXL1zIgYBE",
        "outputId": "e0bd2cc5-bde3-4340-ba43-06faba7ce7d7"
      },
      "execution_count": 27,
      "outputs": [
        {
          "output_type": "stream",
          "name": "stdout",
          "text": [
            "Accuracy: 0.9987086776859504\n"
          ]
        }
      ]
    },
    {
      "cell_type": "code",
      "source": [
        "from sklearn.metrics import mean_squared_error\n",
        "mse = mean_squared_error(y_test, y_pred)\n",
        "print(\"MEAN SQUARED ERROR =\",mse)\n",
        "\n",
        "from sklearn.metrics import mean_absolute_error\n",
        "mae = mean_absolute_error(y_test, y_pred)\n",
        "print(\"MEAN ABSOLUTE ERROR =\",mae)\n",
        "\n",
        "from sklearn.metrics import precision_score\n",
        "precision = precision_score(y_test, y_pred, average='weighted')\n",
        "print(\"PRECISION =\",precision)\n",
        "\n",
        "from sklearn.metrics import recall_score\n",
        "recall = recall_score(y_test, y_pred,average='weighted')\n",
        "print(\"RECALL VALUE = \",recall)\n",
        "\n",
        "from sklearn.metrics import f1_score\n",
        "f1 = f1_score(y_test, y_pred,average='weighted')\n",
        "print(\"F1 SCORE =\",f1)"
      ],
      "metadata": {
        "colab": {
          "base_uri": "https://localhost:8080/"
        },
        "id": "DM1hOmxzgZt7",
        "outputId": "53c0a7b1-8be3-4801-f97e-29c1a084697c"
      },
      "execution_count": 28,
      "outputs": [
        {
          "output_type": "stream",
          "name": "stdout",
          "text": [
            "MEAN SQUARED ERROR = 0.0074896694214876035\n",
            "MEAN ABSOLUTE ERROR = 0.002840909090909091\n",
            "PRECISION = 0.9987245089947042\n",
            "RECALL VALUE =  0.9987086776859504\n",
            "F1 SCORE = 0.9986974817880098\n"
          ]
        }
      ]
    },
    {
      "cell_type": "code",
      "source": [
        "from sklearn.metrics import confusion_matrix\n",
        "confusion_matrix = confusion_matrix(y_test, y_pred)\n",
        "print(confusion_matrix)"
      ],
      "metadata": {
        "colab": {
          "base_uri": "https://localhost:8080/"
        },
        "id": "QU5aCfHHgbn2",
        "outputId": "ffc7a524-5cd3-4e69-dfa6-cb612abaf8ac"
      },
      "execution_count": 29,
      "outputs": [
        {
          "output_type": "stream",
          "name": "stdout",
          "text": [
            "[[ 375    0    0    1    0    0]\n",
            " [   0 1678    0    0    0    0]\n",
            " [   0    0  208    0    0    1]\n",
            " [   0    0    0 1421    0    0]\n",
            " [   0    1    0    0   38    2]\n",
            " [   0    0    0    0    0  147]]\n"
          ]
        }
      ]
    },
    {
      "cell_type": "markdown",
      "source": [
        "KNN\n"
      ],
      "metadata": {
        "id": "Qw074NeJggIt"
      }
    },
    {
      "cell_type": "code",
      "source": [
        "from sklearn.neighbors import KNeighborsClassifier"
      ],
      "metadata": {
        "id": "HoTinPZnghHF"
      },
      "execution_count": 30,
      "outputs": []
    },
    {
      "cell_type": "code",
      "source": [
        "clf = KNeighborsClassifier(n_neighbors=5)\n",
        "clf.fit(X_train, y_train)\n",
        "\n",
        "y_pred = clf.predict(X_test)\n",
        "\n",
        "accuracy = accuracy_score(y_test, y_pred)\n",
        "\n",
        "print('Accuracy:',accuracy)"
      ],
      "metadata": {
        "colab": {
          "base_uri": "https://localhost:8080/"
        },
        "id": "ncetrQTCgkgS",
        "outputId": "e1c78bae-80b1-4243-c7dc-e68e9f14fe06"
      },
      "execution_count": 31,
      "outputs": [
        {
          "output_type": "stream",
          "name": "stdout",
          "text": [
            "Accuracy: 0.9359504132231405\n"
          ]
        }
      ]
    },
    {
      "cell_type": "code",
      "source": [
        "from sklearn.metrics import mean_squared_error\n",
        "mse = mean_squared_error(y_test, y_pred)\n",
        "print(\"MEAN SQUARED ERROR =\",mse)\n",
        "\n",
        "from sklearn.metrics import mean_absolute_error\n",
        "mae = mean_absolute_error(y_test, y_pred)\n",
        "print(\"MEAN ABSOLUTE ERROR =\",mae)\n",
        "\n",
        "from sklearn.metrics import precision_score\n",
        "precision = precision_score(y_test, y_pred, average='weighted')\n",
        "print(\"PRECISION =\",precision)\n",
        "\n",
        "from sklearn.metrics import recall_score\n",
        "recall = recall_score(y_test, y_pred,average='weighted')\n",
        "print(\"RECALL VALUE = \",recall)\n",
        "\n",
        "from sklearn.metrics import f1_score\n",
        "f1 = f1_score(y_test, y_pred,average='weighted')\n",
        "print(\"F1 SCORE =\",f1)"
      ],
      "metadata": {
        "colab": {
          "base_uri": "https://localhost:8080/"
        },
        "id": "OGXpQPSYgl-p",
        "outputId": "ba80c560-ba38-4809-f493-e81f584b9ec7"
      },
      "execution_count": 32,
      "outputs": [
        {
          "output_type": "stream",
          "name": "stdout",
          "text": [
            "MEAN SQUARED ERROR = 0.3434917355371901\n",
            "MEAN ABSOLUTE ERROR = 0.1415289256198347\n",
            "PRECISION = 0.935736284756872\n",
            "RECALL VALUE =  0.9359504132231405\n",
            "F1 SCORE = 0.9357613318470661\n"
          ]
        }
      ]
    },
    {
      "cell_type": "code",
      "source": [
        "from sklearn.metrics import confusion_matrix\n",
        "confusion_matrix = confusion_matrix(y_test, y_pred)\n",
        "print(confusion_matrix)"
      ],
      "metadata": {
        "colab": {
          "base_uri": "https://localhost:8080/"
        },
        "id": "8SNS9JesgoD2",
        "outputId": "38b2054a-f5dd-433d-fc24-b3e84b5eff9d"
      },
      "execution_count": 33,
      "outputs": [
        {
          "output_type": "stream",
          "name": "stdout",
          "text": [
            "[[ 334    0    0   42    0    0]\n",
            " [   0 1616    7   55    0    0]\n",
            " [   0   20  180    0    0    9]\n",
            " [  30   63    0 1328    0    0]\n",
            " [   0    0    0    0   35    6]\n",
            " [   0    0   10    0    6  131]]\n"
          ]
        }
      ]
    },
    {
      "cell_type": "code",
      "source": [
        "test_data = [80.65,120.88,6.60,44.9,11,13.98,0.88,20,111.11,0.45,3.98,0.22,200]"
      ],
      "metadata": {
        "id": "cmnHag8tgqJ2"
      },
      "execution_count": 34,
      "outputs": []
    },
    {
      "cell_type": "code",
      "source": [
        "from sklearn.svm import SVC\n",
        "svm = SVC(kernel='linear')\n",
        "svm.fit(X_train,y_train)\n",
        "prediction = svm.predict([test_data])\n",
        "print(\"predicted value = \",prediction[0])"
      ],
      "metadata": {
        "colab": {
          "base_uri": "https://localhost:8080/"
        },
        "id": "g-hiK5UogsC6",
        "outputId": "44fb34c4-7895-490f-8301-4a8077a45d77"
      },
      "execution_count": 35,
      "outputs": [
        {
          "output_type": "stream",
          "name": "stdout",
          "text": [
            "predicted value =  1\n"
          ]
        },
        {
          "output_type": "stream",
          "name": "stderr",
          "text": [
            "/usr/local/lib/python3.10/dist-packages/sklearn/base.py:439: UserWarning: X does not have valid feature names, but SVC was fitted with feature names\n",
            "  warnings.warn(\n"
          ]
        }
      ]
    },
    {
      "cell_type": "code",
      "source": [
        "label_map = {\n",
        "    0: 'Moderate',\n",
        "    1: 'poor',\n",
        "    2: 'very poor',\n",
        "    3: 'satisfactory',\n",
        "    4: 'good',\n",
        "    5: 'severe'\n",
        "}\n",
        "\n",
        "\n",
        "\n",
        "from sklearn.svm import SVC\n",
        "svm = SVC(kernel='linear')\n",
        "svm.fit(X_train,y_train)\n",
        "prediction = svm.predict([test_data])\n",
        "print(\"predicted value = \",prediction[0])\n",
        "\n",
        "# Convert the integer labels to string labels using the label map\n",
        "y_pred_strings = [label_map[label] for label in prediction]\n",
        "\n",
        "# Print the predicted labels as string labels\n",
        "print(\"Predicted labels:\", y_pred_strings)\n"
      ],
      "metadata": {
        "colab": {
          "base_uri": "https://localhost:8080/"
        },
        "id": "T0OG8qG2gtoc",
        "outputId": "7c528220-8ef9-42bc-f939-d0a06cce55b4"
      },
      "execution_count": 36,
      "outputs": [
        {
          "output_type": "stream",
          "name": "stdout",
          "text": [
            "predicted value =  1\n",
            "Predicted labels: ['poor']\n"
          ]
        },
        {
          "output_type": "stream",
          "name": "stderr",
          "text": [
            "/usr/local/lib/python3.10/dist-packages/sklearn/base.py:439: UserWarning: X does not have valid feature names, but SVC was fitted with feature names\n",
            "  warnings.warn(\n"
          ]
        }
      ]
    },
    {
      "cell_type": "code",
      "source": [
        "XGBOOST\n"
      ],
      "metadata": {
        "id": "Am0tf2angwVF"
      },
      "execution_count": null,
      "outputs": []
    },
    {
      "cell_type": "code",
      "source": [
        "import xgboost as xgb\n",
        "from sklearn.model_selection import train_test_split\n",
        "from sklearn.metrics import accuracy_score"
      ],
      "metadata": {
        "id": "jxvXNhf4g1HD"
      },
      "execution_count": 37,
      "outputs": []
    },
    {
      "cell_type": "code",
      "source": [
        "X_train, X_test, y_train, y_test = train_test_split(X, y, test_size=0.3, random_state=16)\n",
        "\n",
        "\n",
        "model = xgb.XGBClassifier(objective='multi:softmax', num_class=6)\n",
        "\n",
        "model.fit(X_train, y_train)\n",
        "\n",
        "y_pred = model.predict(X_test)\n",
        "\n",
        "accuracy = accuracy_score(y_test, y_pred)\n",
        "print(\"Accuracy: %.2f%%\" % (accuracy * 100.0))"
      ],
      "metadata": {
        "colab": {
          "base_uri": "https://localhost:8080/"
        },
        "id": "Jx3YY1H_g364",
        "outputId": "3c449dbd-4fd3-42f0-9102-b64cd30d488e"
      },
      "execution_count": 38,
      "outputs": [
        {
          "output_type": "stream",
          "name": "stdout",
          "text": [
            "Accuracy: 100.00%\n"
          ]
        }
      ]
    },
    {
      "cell_type": "code",
      "source": [
        "from sklearn.metrics import confusion_matrix\n",
        "confusion_matrix = confusion_matrix(y_test, y_pred)\n",
        "print(confusion_matrix)"
      ],
      "metadata": {
        "colab": {
          "base_uri": "https://localhost:8080/"
        },
        "id": "aooWON5Yg5mV",
        "outputId": "daec77ae-88dc-4529-c3d8-a7f5a8dd5817"
      },
      "execution_count": 39,
      "outputs": [
        {
          "output_type": "stream",
          "name": "stdout",
          "text": [
            "[[ 265    0    0    0    0    0]\n",
            " [   0 1247    0    0    0    0]\n",
            " [   0    0  146    0    0    0]\n",
            " [   0    0    0 1104    0    0]\n",
            " [   0    0    0    0   32    0]\n",
            " [   0    0    0    0    0  110]]\n"
          ]
        }
      ]
    },
    {
      "cell_type": "code",
      "source": [
        "from sklearn.metrics import mean_squared_error\n",
        "mse = mean_squared_error(y_test, y_pred)\n",
        "print(\"MEAN SQUARED ERROR =\",mse)\n",
        "\n",
        "from sklearn.metrics import mean_absolute_error\n",
        "mae = mean_absolute_error(y_test, y_pred)\n",
        "print(\"MEAN ABSOLUTE ERROR =\",mae)\n",
        "\n",
        "from sklearn.metrics import precision_score\n",
        "precision = precision_score(y_test, y_pred, average='weighted')\n",
        "print(\"PRECISION =\",precision)\n",
        "\n",
        "from sklearn.metrics import recall_score\n",
        "recall = recall_score(y_test, y_pred,average='weighted')\n",
        "print(\"RECALL VALUE = \",recall)\n",
        "\n",
        "from sklearn.metrics import f1_score\n",
        "f1 = f1_score(y_test, y_pred,average='weighted')\n",
        "print(\"F1 SCORE =\",f1)"
      ],
      "metadata": {
        "colab": {
          "base_uri": "https://localhost:8080/"
        },
        "id": "CTHZPFS_g_Ix",
        "outputId": "1006d91c-d88a-434b-ede6-0a7a16203ff4"
      },
      "execution_count": 40,
      "outputs": [
        {
          "output_type": "stream",
          "name": "stdout",
          "text": [
            "MEAN SQUARED ERROR = 0.0\n",
            "MEAN ABSOLUTE ERROR = 0.0\n",
            "PRECISION = 1.0\n",
            "RECALL VALUE =  1.0\n",
            "F1 SCORE = 1.0\n"
          ]
        }
      ]
    },
    {
      "cell_type": "code",
      "source": [],
      "metadata": {
        "id": "ww9ZP1ZYhCAs"
      },
      "execution_count": null,
      "outputs": []
    },
    {
      "cell_type": "markdown",
      "source": [
        "NAIVEE BAYES"
      ],
      "metadata": {
        "id": "OiumNs8PhF3v"
      }
    },
    {
      "cell_type": "code",
      "source": [
        "from sklearn.naive_bayes import MultinomialNB\n",
        "from sklearn.model_selection import train_test_split\n",
        "from sklearn.metrics import accuracy_score\n",
        "\n",
        "X_train, X_test, y_train, y_test = train_test_split(X, y, test_size=0.3, random_state=42)\n",
        "model = MultinomialNB()\n",
        "model.fit(X_train, y_train)\n",
        "\n",
        "\n",
        "y_pred = model.predict(X_test)\n",
        "\n",
        "accuracy = accuracy_score(y_test, y_pred)\n",
        "print(\"Accuracy: %.2f%%\" % (accuracy * 100.0))\n"
      ],
      "metadata": {
        "colab": {
          "base_uri": "https://localhost:8080/"
        },
        "id": "7XYu-lSshHF4",
        "outputId": "b57b66b1-dc35-4b4e-d5f4-d3ea936c052a"
      },
      "execution_count": 41,
      "outputs": [
        {
          "output_type": "stream",
          "name": "stdout",
          "text": [
            "Accuracy: 46.59%\n"
          ]
        }
      ]
    },
    {
      "cell_type": "code",
      "source": [
        "from sklearn.metrics import mean_squared_error\n",
        "mse = mean_squared_error(y_test, y_pred)\n",
        "print(\"MEAN SQUARED ERROR =\",mse)\n",
        "\n",
        "from sklearn.metrics import mean_absolute_error\n",
        "mae = mean_absolute_error(y_test, y_pred)\n",
        "print(\"MEAN ABSOLUTE ERROR =\",mae)\n",
        "\n",
        "from sklearn.metrics import precision_score\n",
        "precision = precision_score(y_test, y_pred, average='weighted')\n",
        "print(\"PRECISION =\",precision)\n",
        "\n",
        "from sklearn.metrics import recall_score\n",
        "recall = recall_score(y_test, y_pred,average='weighted')\n",
        "print(\"RECALL VALUE = \",recall)\n",
        "\n",
        "from sklearn.metrics import f1_score\n",
        "f1 = f1_score(y_test, y_pred,average='weighted')\n",
        "print(\"F1 SCORE =\",f1)"
      ],
      "metadata": {
        "colab": {
          "base_uri": "https://localhost:8080/"
        },
        "id": "Dll2UjWXhLKJ",
        "outputId": "03db6438-8fd4-4e7d-83e1-f6e08886579c"
      },
      "execution_count": 42,
      "outputs": [
        {
          "output_type": "stream",
          "name": "stdout",
          "text": [
            "MEAN SQUARED ERROR = 2.6556473829201104\n",
            "MEAN ABSOLUTE ERROR = 1.100550964187328\n",
            "PRECISION = 0.5191262396230283\n",
            "RECALL VALUE =  0.4659090909090909\n",
            "F1 SCORE = 0.48124229419332865\n"
          ]
        }
      ]
    },
    {
      "cell_type": "code",
      "source": [
        "from sklearn.metrics import confusion_matrix\n",
        "confusion_matrix = confusion_matrix(y_test, y_pred)\n",
        "print(confusion_matrix)"
      ],
      "metadata": {
        "colab": {
          "base_uri": "https://localhost:8080/"
        },
        "id": "ScB5wVHJhN41",
        "outputId": "455826bc-8fa9-41cd-e08a-fbd5530fb45e"
      },
      "execution_count": 43,
      "outputs": [
        {
          "output_type": "stream",
          "name": "stdout",
          "text": [
            "[[137  26   3 122   0   0]\n",
            " [ 66 616 243 260   6  61]\n",
            " [  0  27  67   9   4  50]\n",
            " [217 333  52 454   0  16]\n",
            " [  0   0   1   0  26  10]\n",
            " [  0   5  20   0  20  53]]\n"
          ]
        }
      ]
    },
    {
      "cell_type": "code",
      "source": [],
      "metadata": {
        "id": "btGKI7h_hQnU"
      },
      "execution_count": null,
      "outputs": []
    },
    {
      "cell_type": "markdown",
      "source": [
        "VOTING CLASSIFIER"
      ],
      "metadata": {
        "id": "IratPJshhU09"
      }
    },
    {
      "cell_type": "code",
      "source": [
        "from sklearn.ensemble import VotingClassifier\n",
        "from sklearn.ensemble import RandomForestClassifier\n",
        "# from sklearn.ensemble import GradientBoostingClassifier\n",
        "# from sklearn.svm import SVC\n",
        "from sklearn.model_selection import train_test_split\n",
        "from sklearn.metrics import accuracy_score\n",
        "X_train, X_test, y_train, y_test = train_test_split(X, y, test_size=0.2, random_state=42)\n",
        "\n",
        "# Define the individual models\n",
        "model_rf = RandomForestClassifier()\n",
        "\n",
        "\n",
        "# Create the voting ensemble classifier\n",
        "ensemble_model = VotingClassifier(estimators=[\n",
        "    ('rf', model_rf),\n",
        "    # ('gb', model_gb),\n",
        "    # ('svm', model_svm)\n",
        "], voting='hard')\n",
        "\n",
        "ensemble_model.fit(X_train, y_train)\n",
        "y_pred = ensemble_model.predict(X_test)\n",
        "accuracy = accuracy_score(y_test, y_pred)\n",
        "print(\"Accuracy: %.2f%%\" % (accuracy * 100.0))"
      ],
      "metadata": {
        "colab": {
          "base_uri": "https://localhost:8080/"
        },
        "id": "Hu7fe_m_hWuj",
        "outputId": "88924546-46c6-4247-aabb-e08c9430af68"
      },
      "execution_count": 44,
      "outputs": [
        {
          "output_type": "stream",
          "name": "stdout",
          "text": [
            "Accuracy: 99.69%\n"
          ]
        }
      ]
    },
    {
      "cell_type": "markdown",
      "source": [
        "STACKING"
      ],
      "metadata": {
        "id": "X4BuEkjJheb9"
      }
    },
    {
      "cell_type": "code",
      "source": [
        "from sklearn.ensemble import RandomForestClassifier\n",
        "from sklearn.ensemble import GradientBoostingClassifier\n",
        "from sklearn.svm import SVC\n",
        "from sklearn.linear_model import LogisticRegression\n",
        "from sklearn.model_selection import train_test_split\n",
        "from sklearn.metrics import accuracy_score\n",
        "import numpy as np\n",
        "\n",
        "X_train, X_test, y_train, y_test = train_test_split(X, y, test_size=0.2, random_state=42)\n",
        "\n",
        "# Define the base models\n",
        "model_rf = RandomForestClassifier()\n",
        "model_gb = GradientBoostingClassifier()\n",
        "model_svm = SVC(probability=True)\n",
        "model_rf.fit(X_train, y_train)\n",
        "model_gb.fit(X_train, y_train)\n",
        "model_svm.fit(X_train, y_train)\n",
        "\n",
        "pred_rf = model_rf.predict(X_train)\n",
        "pred_gb = model_gb.predict(X_train)\n",
        "pred_svm = model_svm.predict(X_train)\n",
        "\n",
        "stacking_train = np.column_stack((pred_rf, pred_gb, pred_svm))\n",
        "\n",
        "meta_model = LogisticRegression()\n",
        "meta_model.fit(stacking_train, y_train)\n",
        "\n",
        "\n",
        "pred_rf_test = model_rf.predict(X_test)\n",
        "pred_gb_test = model_gb.predict(X_test)\n",
        "pred_svm_test = model_svm.predict(X_test)\n",
        "\n",
        "stacking_test = np.column_stack((pred_rf_test, pred_gb_test, pred_svm_test))\n",
        "\n",
        "meta_pred = meta_model.predict(stacking_test)\n",
        "\n",
        "accuracy = accuracy_score(y_test, meta_pred)\n",
        "print(\"Accuracy: %.2f%%\" % (accuracy * 100.0))\n"
      ],
      "metadata": {
        "colab": {
          "base_uri": "https://localhost:8080/"
        },
        "id": "LvzSl3qbho5O",
        "outputId": "e07c9f9a-f27e-4ba5-e3cb-5bae07c9388d"
      },
      "execution_count": 45,
      "outputs": [
        {
          "output_type": "stream",
          "name": "stderr",
          "text": [
            "/usr/local/lib/python3.10/dist-packages/sklearn/linear_model/_logistic.py:458: ConvergenceWarning: lbfgs failed to converge (status=1):\n",
            "STOP: TOTAL NO. of ITERATIONS REACHED LIMIT.\n",
            "\n",
            "Increase the number of iterations (max_iter) or scale the data as shown in:\n",
            "    https://scikit-learn.org/stable/modules/preprocessing.html\n",
            "Please also refer to the documentation for alternative solver options:\n",
            "    https://scikit-learn.org/stable/modules/linear_model.html#logistic-regression\n",
            "  n_iter_i = _check_optimize_result(\n"
          ]
        },
        {
          "output_type": "stream",
          "name": "stdout",
          "text": [
            "Accuracy: 99.74%\n"
          ]
        }
      ]
    },
    {
      "cell_type": "code",
      "source": [],
      "metadata": {
        "id": "nAbpCgjrhtWy"
      },
      "execution_count": null,
      "outputs": []
    },
    {
      "cell_type": "markdown",
      "source": [
        "RESAMPLING TECHNIQUES"
      ],
      "metadata": {
        "id": "tvhDRv4lhv-f"
      }
    },
    {
      "cell_type": "code",
      "source": [
        "from imblearn.over_sampling import RandomOverSampler\n",
        "from sklearn.model_selection import train_test_split\n",
        "from sklearn.metrics import classification_report\n",
        "from sklearn.tree import DecisionTreeClassifier\n",
        "\n",
        "\n",
        "X_train, X_test, y_train, y_test = train_test_split(X, y, test_size=0.2, random_state=42)\n",
        "\n",
        "oversampler = RandomOverSampler(random_state=42)\n",
        "X_train_resampled, y_train_resampled = oversampler.fit_resample(X_train, y_train)\n",
        "\n",
        "model = DecisionTreeClassifier()\n",
        "model.fit(X_train_resampled, y_train_resampled)\n",
        "\n",
        "\n",
        "y_pred = model.predict(X_test)\n",
        "\n",
        "print(classification_report(y_test, y_pred))"
      ],
      "metadata": {
        "colab": {
          "base_uri": "https://localhost:8080/"
        },
        "id": "8pMoUt_Mhwzb",
        "outputId": "24e89b74-45f7-451c-a86b-83b54469ecec"
      },
      "execution_count": 46,
      "outputs": [
        {
          "output_type": "stream",
          "name": "stdout",
          "text": [
            "              precision    recall  f1-score   support\n",
            "\n",
            "           0       1.00      1.00      1.00       181\n",
            "           1       1.00      1.00      1.00       827\n",
            "           2       1.00      1.00      1.00       108\n",
            "           3       1.00      1.00      1.00       729\n",
            "           4       1.00      1.00      1.00        25\n",
            "           5       1.00      1.00      1.00        66\n",
            "\n",
            "    accuracy                           1.00      1936\n",
            "   macro avg       1.00      1.00      1.00      1936\n",
            "weighted avg       1.00      1.00      1.00      1936\n",
            "\n"
          ]
        }
      ]
    },
    {
      "cell_type": "code",
      "source": [
        "accuracy = accuracy_score(y_test,y_pred)\n",
        "print(accuracy*100)"
      ],
      "metadata": {
        "colab": {
          "base_uri": "https://localhost:8080/"
        },
        "id": "wtrtQFoch42S",
        "outputId": "453bd16a-fbef-47d4-fa60-b63dd71ac9b4"
      },
      "execution_count": 47,
      "outputs": [
        {
          "output_type": "stream",
          "name": "stdout",
          "text": [
            "100.0\n"
          ]
        }
      ]
    },
    {
      "cell_type": "code",
      "source": [
        "import pandas as pd\n",
        "from sklearn.cluster import KMeans\n",
        "from sklearn.preprocessing import StandardScaler\n",
        "\n",
        "columns_for_clustering = ['PM2.5', 'PM10', 'NO', 'NO2', 'NOx', 'NH3', 'CO', 'SO2', 'O3', 'Benzene', 'Toluene', 'Xylene']\n",
        "features = dataset[columns_for_clustering]\n",
        "\n",
        "scaler = StandardScaler()\n",
        "scaled_features = scaler.fit_transform(features)\n",
        "\n",
        "kmeans = KMeans(n_clusters=4, random_state=42)\n",
        "cluster_labels = kmeans.fit_predict(scaled_features)\n",
        "\n",
        "dataset['Cluster'] = cluster_labels\n",
        "\n",
        "print(dataset['Cluster'].value_counts())\n",
        "\n"
      ],
      "metadata": {
        "colab": {
          "base_uri": "https://localhost:8080/"
        },
        "id": "TNeotrdRh8JJ",
        "outputId": "8ab03da8-2e7b-4022-f80c-8d5b2dbdc4a2"
      },
      "execution_count": 48,
      "outputs": [
        {
          "output_type": "stream",
          "name": "stderr",
          "text": [
            "/usr/local/lib/python3.10/dist-packages/sklearn/cluster/_kmeans.py:870: FutureWarning: The default value of `n_init` will change from 10 to 'auto' in 1.4. Set the value of `n_init` explicitly to suppress the warning\n",
            "  warnings.warn(\n"
          ]
        },
        {
          "output_type": "stream",
          "name": "stdout",
          "text": [
            "1    5687\n",
            "0    3317\n",
            "2     503\n",
            "3     172\n",
            "Name: Cluster, dtype: int64\n"
          ]
        },
        {
          "output_type": "stream",
          "name": "stderr",
          "text": [
            "<ipython-input-48-bacc0cbf44c6>:14: SettingWithCopyWarning: \n",
            "A value is trying to be set on a copy of a slice from a DataFrame.\n",
            "Try using .loc[row_indexer,col_indexer] = value instead\n",
            "\n",
            "See the caveats in the documentation: https://pandas.pydata.org/pandas-docs/stable/user_guide/indexing.html#returning-a-view-versus-a-copy\n",
            "  dataset['Cluster'] = cluster_labels\n"
          ]
        }
      ]
    },
    {
      "cell_type": "code",
      "source": [
        "plt.scatter(dataset['AQI_Bucket'], dataset['NO2'], c=dataset['Cluster'], cmap='viridis')\n",
        "plt.xlabel('PM2.5')\n",
        "plt.ylabel('NO2')\n",
        "plt.title('Air Pollution Clusters')\n",
        "plt.show()\n"
      ],
      "metadata": {
        "colab": {
          "base_uri": "https://localhost:8080/",
          "height": 472
        },
        "id": "gm1iE8pqh-RX",
        "outputId": "7f3d23fd-72f2-4de6-b83e-72128a44d4cf"
      },
      "execution_count": 49,
      "outputs": [
        {
          "output_type": "display_data",
          "data": {
            "text/plain": [
              "<Figure size 640x480 with 1 Axes>"
            ],
            "image/png": "[encoded data removed]"
          },
          "metadata": {}
        }
      ]
    },
    {
      "cell_type": "code",
      "source": [],
      "metadata": {
        "id": "aAeZXCjkiBp3"
      },
      "execution_count": null,
      "outputs": []
    }
  ]
}